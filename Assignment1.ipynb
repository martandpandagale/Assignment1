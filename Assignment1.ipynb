{
 "cells": [
  {
   "cell_type": "markdown",
   "id": "340c303f",
   "metadata": {},
   "source": [
    "# Question\n",
    "\"\"\"\n",
    "Write a python function to find and display the five \n",
    "digit number in which the first digit is two more than \n",
    "the second,the second digit is two more than the third,\n",
    "the fourth digit is two less than the third, and the \n",
    "last digit is two more than\n",
    "the fourth.The sum of the third,fourth and fifth digits\n",
    "equals the first.The sum of all the digits is 19\n",
    "\"\"\""
   ]
  },
  {
   "cell_type": "code",
   "execution_count": 1,
   "id": "c17eb7b5",
   "metadata": {},
   "outputs": [
    {
     "data": {
      "text/plain": [
       "'C:\\\\Users\\\\admin'"
      ]
     },
     "execution_count": 1,
     "metadata": {},
     "output_type": "execute_result"
    }
   ],
   "source": [
    "pwd\n"
   ]
  },
  {
   "cell_type": "code",
   "execution_count": 3,
   "id": "c454c459",
   "metadata": {},
   "outputs": [],
   "source": [
    "def five_digit_no():\n",
    "    for i in range(9,0,-1):\n",
    "        first=i\n",
    "        second=i-2\n",
    "        third=i-4\n",
    "        fourth=i-6\n",
    "        five=i-4\n",
    "        if third+fourth+five==first:\n",
    "            if (first+second+third+fourth+five)==19:\n",
    "                return (int(str(first)+str(second)+str(third)+str(fourth)+str(five)))\n",
    "        \n",
    "            "
   ]
  },
  {
   "cell_type": "code",
   "execution_count": 4,
   "id": "64a9d5c7",
   "metadata": {},
   "outputs": [
    {
     "data": {
      "text/plain": [
       "75313"
      ]
     },
     "execution_count": 4,
     "metadata": {},
     "output_type": "execute_result"
    }
   ],
   "source": [
    "five_digit_no()"
   ]
  },
  {
   "cell_type": "code",
   "execution_count": 6,
   "id": "bb2a8544",
   "metadata": {},
   "outputs": [
    {
     "data": {
      "text/plain": [
       "75313"
      ]
     },
     "execution_count": 6,
     "metadata": {},
     "output_type": "execute_result"
    }
   ],
   "source": [
    "find_five_no()"
   ]
  },
  {
   "cell_type": "markdown",
   "id": "2737041b",
   "metadata": {},
   "source": [
    "# Question\n",
    "*You are driving a little too fast, and a police officer stops you. Write a function to return one of 3 possible results: \"No ticket\", \"Small ticket\", or \"Big Ticket\". If your speed is 60 or less, the result is \"No Ticket\". If speed is between 61 and 80 inclusive, the result is \"Small Ticket\". If speed is 81 or more, the result is \"Big Ticket\". Unless it is your birthday (encoded as a boolean value in the parameters of the function) -- on your birthday, your speed can be 5 higher in all cases. *"
   ]
  },
  {
   "cell_type": "code",
   "execution_count": 1,
   "id": "95ab1b08",
   "metadata": {},
   "outputs": [],
   "source": [
    "def speed_catch(speed,birthday):\n",
    "    if birthday:\n",
    "        new_speed=speed-5\n",
    "    else:\n",
    "        new_speed=speed\n",
    "    if new_speed>80:\n",
    "        print(\"BIG TICKET\")\n",
    "    elif new_speed>60:\n",
    "        return \"SMALL TICKET\"\n",
    "    else:\n",
    "        return \"NO TICKET\""
   ]
  },
  {
   "cell_type": "code",
   "execution_count": 2,
   "id": "20e9efec",
   "metadata": {},
   "outputs": [
    {
     "name": "stdout",
     "output_type": "stream",
     "text": [
      "BIG TICKET\n"
     ]
    }
   ],
   "source": [
    "speed_catch(100,True)"
   ]
  },
  {
   "cell_type": "code",
   "execution_count": 3,
   "id": "0029126d",
   "metadata": {},
   "outputs": [
    {
     "data": {
      "text/plain": [
       "'NO TICKET'"
      ]
     },
     "execution_count": 3,
     "metadata": {},
     "output_type": "execute_result"
    }
   ],
   "source": [
    "speed_catch(60,True)"
   ]
  },
  {
   "cell_type": "code",
   "execution_count": 4,
   "id": "b7c6b1b5",
   "metadata": {},
   "outputs": [
    {
     "data": {
      "text/plain": [
       "'NO TICKET'"
      ]
     },
     "execution_count": 4,
     "metadata": {},
     "output_type": "execute_result"
    }
   ],
   "source": [
    "speed_catch(60,False)"
   ]
  },
  {
   "cell_type": "code",
   "execution_count": 5,
   "id": "4591c059",
   "metadata": {},
   "outputs": [
    {
     "data": {
      "text/plain": [
       "'SMALL TICKET'"
      ]
     },
     "execution_count": 5,
     "metadata": {},
     "output_type": "execute_result"
    }
   ],
   "source": [
    "speed_catch(70,False)"
   ]
  },
  {
   "cell_type": "markdown",
   "id": "429a35df",
   "metadata": {},
   "source": [
    "# Question\n",
    "#** Create a basic function that returns True if the word 'dog' is contained in the input string. Don't worry about edge cases like a punctuation being attached to the word dog, but do account for capitalization. **"
   ]
  },
  {
   "cell_type": "code",
   "execution_count": 6,
   "id": "9d1a1a07",
   "metadata": {},
   "outputs": [],
   "source": [
    "def find_dog(s):\n",
    "    return 'dog'in s.lower().split()"
   ]
  },
  {
   "cell_type": "code",
   "execution_count": 8,
   "id": "e94b4962",
   "metadata": {},
   "outputs": [
    {
     "data": {
      "text/plain": [
       "True"
      ]
     },
     "execution_count": 8,
     "metadata": {},
     "output_type": "execute_result"
    }
   ],
   "source": [
    "find_dog('DOG')"
   ]
  },
  {
   "cell_type": "code",
   "execution_count": 9,
   "id": "8799f987",
   "metadata": {},
   "outputs": [
    {
     "data": {
      "text/plain": [
       "True"
      ]
     },
     "execution_count": 9,
     "metadata": {},
     "output_type": "execute_result"
    }
   ],
   "source": [
    "find_dog('Dog')"
   ]
  },
  {
   "cell_type": "code",
   "execution_count": 10,
   "id": "4d3a9215",
   "metadata": {},
   "outputs": [
    {
     "data": {
      "text/plain": [
       "False"
      ]
     },
     "execution_count": 10,
     "metadata": {},
     "output_type": "execute_result"
    }
   ],
   "source": [
    "find_dog('ddog')"
   ]
  },
  {
   "cell_type": "markdown",
   "id": "b58a96eb",
   "metadata": {},
   "source": [
    "# Question\n",
    "** Create a function that counts the number of times the word \"dog\" occurs in a string. Again ignore edge cases. **"
   ]
  },
  {
   "cell_type": "code",
   "execution_count": 21,
   "id": "fe8afaba",
   "metadata": {},
   "outputs": [],
   "source": [
    "def find_countofDog(s):\n",
    "    count=0\n",
    "    for v in s.lower().split():\n",
    "        if v=='dog':\n",
    "            count += 1     #count=count+1\n",
    "    return count"
   ]
  },
  {
   "cell_type": "code",
   "execution_count": 22,
   "id": "731aa2c6",
   "metadata": {},
   "outputs": [
    {
     "data": {
      "text/plain": [
       "2"
      ]
     },
     "execution_count": 22,
     "metadata": {},
     "output_type": "execute_result"
    }
   ],
   "source": [
    "find_countofDog('this dog runs faster then the other dog dude')"
   ]
  },
  {
   "cell_type": "markdown",
   "id": "94067d36",
   "metadata": {},
   "source": [
    "# Question\n",
    "** Use lambda expressions and the filter() function to filter out words from a list that don't start with the letter 's'. For example:**\n",
    "\n",
    "seq = ['soup','dog','salad','cat','great']\n",
    "\n",
    "should be filtered down to:\n",
    "\n",
    "['soup','salad']"
   ]
  },
  {
   "cell_type": "code",
   "execution_count": 23,
   "id": "baef20c6",
   "metadata": {},
   "outputs": [
    {
     "data": {
      "text/plain": [
       "['dog', 'cat', 'great']"
      ]
     },
     "execution_count": 23,
     "metadata": {},
     "output_type": "execute_result"
    }
   ],
   "source": [
    "seq = ['soup','dog','salad','cat','great']\n",
    "list(filter(lambda  x:x[0]!='s',seq))\n"
   ]
  },
  {
   "cell_type": "markdown",
   "id": "af46623e",
   "metadata": {},
   "source": [
    "# Question\n",
    "Given a string print number num by extracting all the\n",
    "digits from the string as in string\n",
    "Print negative number if the first character in \n",
    "string is '-'\n",
    "eg.\n",
    "-123abcd should return -123,abcd456-->456,fdhfh78dsd89--->7889,-56dssd78-->-5678"
   ]
  },
  {
   "cell_type": "code",
   "execution_count": 27,
   "id": "340235c6",
   "metadata": {},
   "outputs": [
    {
     "name": "stdout",
     "output_type": "stream",
     "text": [
      "enter the input-123hh9\n",
      "-1239\n"
     ]
    }
   ],
   "source": [
    "x=input('enter the input')\n",
    "num=''\n",
    "a=[0,1,2,3,4,5,6,7,8,9]\n",
    "if x[0]==\"-\":\n",
    "    num=num+x[0]\n",
    "for y in x:\n",
    "    if y in str(a):\n",
    "        num=num+y\n",
    "print(num)\n",
    "    "
   ]
  },
  {
   "cell_type": "markdown",
   "id": "39ea55a5",
   "metadata": {},
   "source": [
    "# Question\n",
    "WAP to check whether a number is palindrome or not on following conditions.\n",
    "1. take input number\n",
    "2. add number and its reverse\n",
    "3. check that number is palindrome or not,if not then sum and its reverse"
   ]
  },
  {
   "cell_type": "code",
   "execution_count": 28,
   "id": "243a5719",
   "metadata": {},
   "outputs": [
    {
     "name": "stdout",
     "output_type": "stream",
     "text": [
      "Enter the number: 565\n",
      "Number is : 1441\n",
      "reverse is : 1441\n",
      "palindrome is : 1441\n"
     ]
    }
   ],
   "source": [
    "num1=input(\"Enter the number: \")\n",
    "num2=int(num1[::-1])\n",
    "num3=str(int(num1)+num2)\n",
    "while num3!=num3[::-1]:\n",
    "    num3=str(int(num3)+int(num3[::-1]))\n",
    "    print(\"Number is :\",num3)\n",
    "    print(\"reverse is :\",num3[::-1])\n",
    "print(\"palindrome is :\",num3)\n"
   ]
  },
  {
   "cell_type": "markdown",
   "id": "81aa3c2a",
   "metadata": {},
   "source": [
    "# Question \n",
    "Write a program to create a student structure with name roll marks(english and maths)\n",
    "#and add scholership based on student maths marks #if maths marks more than 70 then 2000 rupees #between 60 and 70 1500 Rs #between 40 and 60 100 Rs #and less than 40 0 Rs '''"
   ]
  },
  {
   "cell_type": "code",
   "execution_count": null,
   "id": "cc68b254",
   "metadata": {},
   "outputs": [],
   "source": [
    "name=input('enter the name')\n",
    "roll_no=int(input('enter the roll no'))\n",
    "eng_mark=int(input('enter the english mark'))\n",
    "math_mark=int(input('enter the math mark'))\n",
    "d1={'name':name, 'roll_no':roll_no,'mark':{'english':eng_mark, 'math':math_mark}}\n",
    "if d1['mark']['math']>=70:\n",
    "    d1['scholership']=20000\n",
    "elif d1['mark']['math']<70 and d1['mark']['math']>=60:\n",
    "    d1['scholership']=15000\n",
    "elif d1['mark']['math']<60 and d1['mark']['math']>=40:\n",
    "    d1['scholership']=100\n",
    "else:\n",
    "    d1['scholership']=0\n",
    "print(d1)\n",
    "    "
   ]
  },
  {
   "cell_type": "code",
   "execution_count": null,
   "id": "a3de29c3",
   "metadata": {},
   "outputs": [],
   "source": []
  }
 ],
 "metadata": {
  "kernelspec": {
   "display_name": "Python 3 (ipykernel)",
   "language": "python",
   "name": "python3"
  },
  "language_info": {
   "codemirror_mode": {
    "name": "ipython",
    "version": 3
   },
   "file_extension": ".py",
   "mimetype": "text/x-python",
   "name": "python",
   "nbconvert_exporter": "python",
   "pygments_lexer": "ipython3",
   "version": "3.9.12"
  }
 },
 "nbformat": 4,
 "nbformat_minor": 5
}
